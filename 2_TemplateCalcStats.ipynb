{
 "cells": [
  {
   "cell_type": "markdown",
   "id": "e8dbac60-9ac3-43ef-8bba-769773452214",
   "metadata": {},
   "source": [
    "**Calculate the Maximum Pressure, Area Size, Centroid_0, Centroid_1, and Centroid_2 for Both MR-based and CT-based Simulations**\n",
    "----\n",
    "### Context\n",
    "This notebook shows an example that calculates the outcomes using MR-based and CT-based Simulations for the 54 EEG locations. It is modified for the data with SDR = 0.55. This code can also be adapted for different datasets.\n"
   ]
  },
  {
   "cell_type": "code",
   "execution_count": null,
   "id": "2e063c45-d542-402a-9acb-f2111e7daef0",
   "metadata": {},
   "outputs": [],
   "source": [
    "import numpy as np\n",
    "from skimage.measure import label, regionprops, regionprops_table\n",
    "import nibabel\n",
    "import pandas as pd\n",
    "import os\n",
    "import matplotlib.pyplot as plt"
   ]
  },
  {
   "cell_type": "markdown",
   "id": "3ed34f51-f657-4fab-8bf4-17f91fe9538b",
   "metadata": {},
   "source": [
    "## Additions to path"
   ]
  },
  {
   "cell_type": "code",
   "execution_count": null,
   "id": "b4f904ae-d2ed-45f0-9b9e-896ad7e59cf8",
   "metadata": {},
   "outputs": [],
   "source": [
    "inputcsv='SDR_0p55_eeg_normals.csv'\n",
    "SELECTED_FOR_FUS = pd.read_csv('SELECTED_EEG.csv',index_col='Name')['Include'].to_dict()"
   ]
  },
  {
   "cell_type": "code",
   "execution_count": null,
   "id": "c70c89ba-12e3-4a78-bb02-c9c28b518f09",
   "metadata": {},
   "outputs": [],
   "source": [
    "BasePath='ZenodoFinal/SDR_0p55/m2m_SDR_0p55'    \n",
    "T1W = 'ZenodoFinal/SDR_0p55/T1W.nii.gz'\n",
    "simbnibs_path=BasePath\n",
    "Frequency=500e3\n",
    "PPW =6\n",
    "TxSystem='Single'\n",
    "Aperture = 50e-3\n",
    "FocalLength = 50e-3\n",
    "zLengthBeyonFocalPointWhenNarrow = 80e-3"
   ]
  },
  {
   "cell_type": "code",
   "execution_count": null,
   "id": "b9798917",
   "metadata": {},
   "outputs": [],
   "source": [
    "# Initialize lists to store data\n",
    "all_data_max = []\n",
    "\n",
    "# Loop through selected IDs\n",
    "for ID in SELECTED_FOR_FUS:\n",
    "    if SELECTED_FOR_FUS[ID] == 'YES':\n",
    "        print('*' * 50)\n",
    "        print(f\"Processing ID: {ID}\")\n",
    "        print('*' * 50)\n",
    "\n",
    "        # File paths\n",
    "        Charm_path = os.path.join('MRI_vs_CT/SDR_0p55/',\n",
    "                                  f\"{ID}_Single_{int(Frequency/1e3)}kHz_{PPW}PPW_Foc{FocalLength*1e3:.1f}_Diam{Aperture*1e3:.1f}_FullElasticSolution_Sub_NORM.nii.gz\")\n",
    "        CT_path = os.path.join('MRI_vs_CT/SDR_0p55/',\n",
    "                               f\"CT_{ID}_Single_{int(Frequency/1e3)}kHz_{PPW}PPW_Foc{FocalLength*1e3:.1f}_Diam{Aperture*1e3:.1f}_FullElasticSolution_Sub_NORM.nii.gz\")\n",
    "\n",
    "        # Ensure both files exist\n",
    "        assert os.path.isfile(Charm_path) and os.path.isfile(CT_path)\n",
    "\n",
    "        # Load data\n",
    "        Charm_data = nib.load(Charm_path).get_fdata()\n",
    "        CT_data = nib.load(CT_path).get_fdata()\n",
    "\n",
    "        # Label regions and compute properties\n",
    "        Charm_label_img = label(Charm_data >= 0.5)\n",
    "        CT_label_img = label(CT_data >= 0.5)\n",
    "\n",
    "        Charm_props = regionprops_table(Charm_label_img, properties=('label', 'area', 'centroid'))\n",
    "        CT_props = regionprops_table(CT_label_img, properties=('label', 'area', 'centroid'))\n",
    "\n",
    "        # Find the largest area label\n",
    "        max_area_index_ch = np.argmax(Charm_props['area'])\n",
    "        max_area_index_ct = np.argmax(CT_props['area'])\n",
    "\n",
    "        # Load unnormalized data for pressure calculation\n",
    "        Charm_path_unnorm = os.path.join('MRI_vs_CT/SDR_0p55/',\n",
    "                                         f\"{ID}_Single_{int(Frequency/1e3)}kHz_{PPW}PPW_Foc{FocalLength*1e3:.1f}_Diam{Aperture*1e3:.1f}_FullElasticSolution_Sub.nii.gz\")\n",
    "        CT_path_unnorm = os.path.join('MRI_vs_CT/SDR_0p55/',\n",
    "                                      f\"CT_{ID}_Single_{int(Frequency/1e3)}kHz_{PPW}PPW_Foc{FocalLength*1e3:.1f}_Diam{Aperture*1e3:.1f}_FullElasticSolution_Sub.nii.gz\")\n",
    "\n",
    "        Charm_data_unnorm = nib.load(Charm_path_unnorm).get_fdata()\n",
    "        CT_data_unnorm = nib.load(CT_path_unnorm).get_fdata()\n",
    "\n",
    "        # Calculate maximum pressures using centroids\n",
    "        Charm_centroid = tuple(np.round([Charm_props[f'centroid-{i}'][max_area_index_ch] for i in range(3)]).astype(int))\n",
    "        CT_centroid = tuple(np.round([CT_props[f'centroid-{i}'][max_area_index_ct] for i in range(3)]).astype(int))\n",
    "\n",
    "        MaxCharmPressure = Charm_data_unnorm[Charm_centroid]\n",
    "        MaxCTPressure = CT_data_unnorm[CT_centroid]\n",
    "\n",
    "        # Store results for the largest label\n",
    "        data_max = {\n",
    "            'ID': ID,\n",
    "            'Max Charm Pressure': MaxCharmPressure,\n",
    "            'Max CT Pressure': MaxCTPressure,\n",
    "            'Area_ch': Charm_props['area'][max_area_index_ch],\n",
    "            'Area_ct': CT_props['area'][max_area_index_ct],\n",
    "            'centroid-0_charm': Charm_centroid[0],\n",
    "            'centroid-1_charm': Charm_centroid[1],\n",
    "            'centroid-2_charm': Charm_centroid[2],\n",
    "            'centroid-0_ct': CT_centroid[0],\n",
    "            'centroid-1_ct': CT_centroid[1],\n",
    "            'centroid-2_ct': CT_centroid[2]\n",
    "        }\n",
    "\n",
    "        all_data_max.append(data_max)\n",
    "\n",
    "# Convert to DataFrame and save\n",
    "df_all_max = pd.DataFrame(all_data_max)\n",
    "output_file = 'output.xlsx'\n",
    "with pd.ExcelWriter(output_file, engine='xlsxwriter') as writer:\n",
    "    df_all_max.to_excel(writer, sheet_name='Max Area', index=False)\n",
    "\n",
    "print(f\"Data saved to {output_file}\")"
   ]
  },
  {
   "cell_type": "code",
   "execution_count": null,
   "id": "5d61e210",
   "metadata": {},
   "outputs": [],
   "source": []
  },
  {
   "cell_type": "code",
   "execution_count": null,
   "id": "1b51b8db",
   "metadata": {},
   "outputs": [],
   "source": []
  }
 ],
 "metadata": {
  "kernelspec": {
   "display_name": "Python 3 (ipykernel)",
   "language": "python",
   "name": "python3"
  },
  "language_info": {
   "codemirror_mode": {
    "name": "ipython",
    "version": 3
   },
   "file_extension": ".py",
   "mimetype": "text/x-python",
   "name": "python",
   "nbconvert_exporter": "python",
   "pygments_lexer": "ipython3",
   "version": "3.12.4"
  }
 },
 "nbformat": 4,
 "nbformat_minor": 5
}
