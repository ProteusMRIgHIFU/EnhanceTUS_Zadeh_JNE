{
 "cells": [
  {
   "cell_type": "markdown",
   "id": "42e8565a-9d44-467e-89db-9b6a03f9bee8",
   "metadata": {},
   "source": [
    "**Calculate the dice coefficient between MR-based and CT-based simulations**\n",
    "----\n",
    "### Context\n",
    "This notebook shows an example that calculates the dice coefficient between MR-based and CT-based Simulations for the 54 EEG locations. It is modified for the data with SDR = 0.55. This code can also be adapted for different datasets. "
   ]
  },
  {
   "cell_type": "code",
   "execution_count": null,
   "id": "39a0fb98-70c4-46d1-9538-1da61e97b10c",
   "metadata": {},
   "outputs": [],
   "source": [
    "import pandas as pd\n",
    "import sys\n",
    "import os\n",
    "import time\n",
    "import numpy as np\n",
    "import matplotlib.pyplot as plt\n",
    "import h5py\n",
    "from BabelViscoFDTD.H5pySimple import ReadFromH5py"
   ]
  },
  {
   "cell_type": "markdown",
   "id": "bbcfd732-3044-4839-89e3-22cbd7aa95dd",
   "metadata": {},
   "source": [
    "## Additions to path\n",
    "We add the paths to BabelBrain"
   ]
  },
  {
   "cell_type": "code",
   "execution_count": null,
   "id": "a97225aa-cd1d-4a47-bdbf-e96bc261b986",
   "metadata": {},
   "outputs": [],
   "source": [
    "sys.path.append('The_BabelBrain_Path')\n",
    "sys.path.append('The_BabelBrain_Path/BabelBrain')"
   ]
  },
  {
   "cell_type": "markdown",
   "id": "d5f99940-947c-4482-a19a-ffe842bc961b",
   "metadata": {},
   "source": [
    "## Select the EEG locations"
   ]
  },
  {
   "cell_type": "code",
   "execution_count": null,
   "id": "bc7c905f-461b-462d-9fcb-c04d3ab33a0c",
   "metadata": {
    "scrolled": true
   },
   "outputs": [],
   "source": [
    "SELECTED_FOR_FUS = pd.read_csv('SELECTED_EEG.csv', index_col='Name')\n",
    "# Filter rows where the 'Include' column is 'YES'\n",
    "SELECTED_FOR_FUS = SELECTED_FOR_FUS[SELECTED_FOR_FUS['Include'] == 'YES']['Include'].to_dict()"
   ]
  },
  {
   "cell_type": "markdown",
   "id": "a89dbfdd-7ea5-430a-b26a-9b9d41f59211",
   "metadata": {},
   "source": [
    "## Define a function"
   ]
  },
  {
   "cell_type": "code",
   "execution_count": null,
   "id": "c968b45b-e922-40e9-943a-58a0841a9405",
   "metadata": {},
   "outputs": [],
   "source": [
    "# Define a function to compute the Dice coefficient\n",
    "def dice_coefficient(mask1, mask2):\n",
    "    intersection = np.logical_and(mask1, mask2)\n",
    "    return 2.0 * intersection.sum() / (mask1.sum() + mask2.sum())"
   ]
  },
  {
   "cell_type": "markdown",
   "id": "753aaa26-c9c0-41ef-aa30-76127f63f69c",
   "metadata": {},
   "source": [
    "## Calculating the Dice coefficients"
   ]
  },
  {
   "cell_type": "code",
   "execution_count": null,
   "id": "7fe1d0c7-8ed3-416a-98b0-3cbe7e1842ad",
   "metadata": {},
   "outputs": [],
   "source": [
    "BasePath='The_path_to_the_folder/SDR_0p55'    #Define the path to the simulation folder\n",
    "ComputingDevice='M1'\n",
    "Frequency=500e3       #Selecet the fundamental frequncy\n",
    "PPW=6\n",
    "TxSystem='Single'\n",
    "results = []\n",
    "\n",
    "for ID in SELECTED_FOR_FUS:\n",
    "    # Construct the file paths for the two masks\n",
    "    mask1_filename = f'{ID}_{TxSystem}_{int(Frequency/1e3)}kHz_{PPW}PPW_Foc50.0_Diam50.0_DataForSim.h5'\n",
    "    mask2_filename = f'CT_{ID}_{TxSystem}_{int(Frequency/1e3)}kHz_{PPW}PPW_Foc50.0_Diam50.0_DataForSim.h5'\n",
    "    \n",
    "    mask1_file_path = os.path.join(BasePath, mask1_filename)\n",
    "    mask2_file_path = os.path.join(BasePath, mask2_filename)\n",
    "\n",
    "    if os.path.isfile(mask1_file_path) and os.path.isfile(mask2_file_path):\n",
    "        mask1_h5 = ReadFromH5py(mask1_file_path)\n",
    "        mask_charm = np.flip(mask1_h5['MaterialMap'], axis=2)\n",
    "        mask2_h5 = ReadFromH5py(mask2_file_path)\n",
    "        mask_ct = np.flip(mask2_h5['MaterialMap'], axis=2)\n",
    "\n",
    "        SkullRegion_charm = (mask_charm == 2) | (mask_charm == 3)\n",
    "        SkullRegion_ct = (mask_ct == 2) | (mask_ct == 3)\n",
    "        \n",
    "        # Compute the Dice coefficient between the two masks\n",
    "        dice_coeff = dice_coefficient(SkullRegion_charm, SkullRegion_ct)\n",
    "\n",
    "        results.append({'ID': ID, 'Dice Coefficient': dice_coeff})\n",
    "    else:\n",
    "        print(f'Files not found for {ID}')\n",
    "\n",
    "df = pd.DataFrame(results)\n",
    "\n",
    "# Save the DataFrame to an Excel file\n",
    "df.to_excel('dice_coefficient_results.xlsx', index=False)\n",
    "\n"
   ]
  },
  {
   "cell_type": "code",
   "execution_count": null,
   "id": "4c65e7d1-b529-4787-a217-0a44e038988c",
   "metadata": {},
   "outputs": [],
   "source": []
  }
 ],
 "metadata": {
  "kernelspec": {
   "display_name": "Python 3 (ipykernel)",
   "language": "python",
   "name": "python3"
  },
  "language_info": {
   "codemirror_mode": {
    "name": "ipython",
    "version": 3
   },
   "file_extension": ".py",
   "mimetype": "text/x-python",
   "name": "python",
   "nbconvert_exporter": "python",
   "pygments_lexer": "ipython3",
   "version": "3.12.4"
  }
 },
 "nbformat": 4,
 "nbformat_minor": 5
}
